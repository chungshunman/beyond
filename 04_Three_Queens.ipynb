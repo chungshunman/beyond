{
 "cells": [
  {
   "cell_type": "markdown",
   "metadata": {
    "id": "wVwM--1qTFDE"
   },
   "source": [
    "# The Three Queens Game\n",
    "\n",
    "\n",
    "# Game Rules \n",
    "- Three fair coins (Queen/Tails) are tossed at the same time.\n",
    "- Before knowing the outcome of the tossed coins, the player bets an amount of money.\n",
    "- Pay-offs:\n",
    "    - If there are 3 Queens, the pay-off is her bet times 9.\n",
    "    - If there are 2 Queens, the pay-off is her bet times -2.\n",
    "    - If there is 1 Queen, the player loses her bet.\n",
    "    - Otherwise, the player does not lose her bet.\n",
    "- A player starts with 10 CHF in her pocket.\n",
    "- Players always have to bet a positive amount of money.\n",
    "- The game finishes when the player runs out of money or she has bet 10 times.\n",
    "\n",
    "# Exercises\n",
    "1. Design and implement an algorithm that allows a user to play the Three Queens Game.\n",
    "2. Add to (1) a plot of the evolution of the stock of money of the user, her bets, and the pay-offs received.\n",
    "---"
   ]
  },
  {
   "cell_type": "markdown",
   "metadata": {
    "id": "PTmSGo8CTFDR"
   },
   "source": [
    "---\n",
    "# Generate a toss of a fair coin\n",
    "There are differents ways to do this, for all of them we need to use the `NumPy` library."
   ]
  },
  {
   "cell_type": "code",
   "execution_count": 10,
   "metadata": {
    "id": "sL5vmdHGTFDS"
   },
   "outputs": [
    {
     "name": "stdout",
     "output_type": "stream",
     "text": [
      "In a round, the number of queens is 1\n",
      "1\n"
     ]
    }
   ],
   "source": [
    "import numpy as np\n",
    "# mine\n",
    "# from itertools import combinations \n",
    "# r=list(combinations(['Queens', 'Tails', 'Queens', 'Tails', 'Queens', 'Tails'], 3))\n",
    "# print(r)\n",
    "#print(np.random.randint(3)) #randomly draw a number from 0 to n\n",
    "\n",
    "# Random probability of 0, 1, 2, 3 Queens\n",
    "def coin_toss():\n",
    "    return np.random.randint(2)\n",
    "print('In a round, the number of queens is {}'.format(coin_toss()+coin_toss()+coin_toss()))\n",
    "\n",
    "\n",
    "# # 50% probability to get 1, 50% to get 0.\n",
    "# def coin_toss():\n",
    "#     aux_toss=np.random.uniform()\n",
    "#     if aux_toss<0.5:\n",
    "#         return 0\n",
    "#     else:\n",
    "#         return 1\n",
    "\n",
    "print(np.random.randint(3)) #bet\n",
    "#np.random.uniform(2) #gives a discrete number between 0 and 1\n",
    "#np.random.uniform(3) #gives a discrete number between 0 and 2"
   ]
  },
  {
   "cell_type": "code",
   "execution_count": 11,
   "metadata": {},
   "outputs": [
    {
     "name": "stdout",
     "output_type": "stream",
     "text": [
      "Queen appeared 49.66% of the time\n"
     ]
    }
   ],
   "source": [
    "n_tosses= 10000\n",
    "count_queen=0\n",
    "for i in range(0, n_tosses):\n",
    "    if coin_toss()== 1:\n",
    "        count_queen +=1\n",
    "print('Queen appeared {}% of the time'.format((count_queen/n_tosses)*100))"
   ]
  },
  {
   "cell_type": "markdown",
   "metadata": {
    "id": "O7S7D3s1TFDS"
   },
   "source": [
    "# Toss three coins and compute pay-off\n",
    "We need a function that, given a bet (a float), tells us what is the pay-off. To compute the pay-off we need to toss three coins."
   ]
  },
  {
   "cell_type": "code",
   "execution_count": 59,
   "metadata": {
    "id": "cDufGjM0TFDT"
   },
   "outputs": [
    {
     "name": "stdout",
     "output_type": "stream",
     "text": [
      "-20\n"
     ]
    }
   ],
   "source": [
    "def coin_toss():\n",
    "    return np.random.randint(2)\n",
    "def pay_off(bet):\n",
    "    # Generate 3 coin tosses\n",
    "    mytoss=coin_toss()+coin_toss()+coin_toss()\n",
    "    #print('You have obtained {} Queen(s)'.format(mytoss))\n",
    "    #Compute the payoff\n",
    "    if mytoss==3:\n",
    "        return bet*9\n",
    "    elif mytoss==0:\n",
    "        return 0\n",
    "    elif (mytoss==1) or (mytoss==2):\n",
    "        return bet*(-mytoss)\n",
    "    else:\n",
    "        print('Error: Unexpected number of Queens')\n",
    "bet = 10\n",
    "print(pay_off(bet))"
   ]
  },
  {
   "cell_type": "markdown",
   "metadata": {
    "id": "pXS5hqQ2TFDT"
   },
   "source": [
    "As a check-up we can run the `pay_off` function many times with a constant bet and look at the outcomes we obtain."
   ]
  },
  {
   "cell_type": "code",
   "execution_count": 60,
   "metadata": {
    "id": "8kw2RYyTTFDT"
   },
   "outputs": [
    {
     "name": "stdout",
     "output_type": "stream",
     "text": [
      "Payoff 0 has occurced 12.300% of the times\n",
      "Payoff 9 has occurced 12.330% of the times\n",
      "Payoff -2 has occurced 37.140% of the times\n",
      "Payoff -1 has occurced 38.230% of the times\n",
      "Average payoff is -0.015400\n",
      "Standard deviation of payoffs is 3.443\n"
     ]
    }
   ],
   "source": [
    "# Play a given bet n times\n",
    "n = 10000\n",
    "mybet = 1\n",
    "\n",
    "outcomes = []\n",
    "\n",
    "for i in range(0, n):\n",
    "    outcomes.append(pay_off(mybet))\n",
    "\n",
    "#Display how many times each payoff happened \n",
    "set_payoffs = set(outcomes) #unique outcomes\n",
    "\n",
    "for my_payoff in set_payoffs:\n",
    "    share_payoff = (outcomes.count(my_payoff)/n)*100\n",
    "    print(\"Payoff {} has occurced {:.3f}% of the times\".format(my_payoff, share_payoff)) #float with decimal numbers\n",
    "    \n",
    "\n",
    "print(\"Average payoff is {:3f}\".format(np.mean(outcomes)))\n",
    "print(\"Standard deviation of payoffs is {:.3f}\".format(np.std(outcomes)))\n",
    "#np.mean(outcomes) #nearly zero"
   ]
  },
  {
   "cell_type": "markdown",
   "metadata": {
    "id": "PGNJEzCRTFDU"
   },
   "source": [
    "# Obtain bet from user\n",
    "We can create a function that prompts the user for a valid bet. A valid bet is:\n",
    "- Higher than zero.\n",
    "- Lower or equal than the amount of money available to the user."
   ]
  },
  {
   "cell_type": "code",
   "execution_count": 61,
   "metadata": {
    "id": "2HCOkDkFTFDU"
   },
   "outputs": [],
   "source": [
    "def get_bet(money):\n",
    "    while True:\n",
    "        bet = float(input(\"How much do you want to bet (>0)? \"))\n",
    "        if bet>0 and bet <=money: #Make sure user does not bet more than her budget\n",
    "            return bet\n",
    "            break\n",
    "    "
   ]
  },
  {
   "cell_type": "code",
   "execution_count": 63,
   "metadata": {},
   "outputs": [
    {
     "name": "stdin",
     "output_type": "stream",
     "text": [
      "How much do you want to bet (>0)?  4\n",
      "How much do you want to bet (>0)?  3\n",
      "How much do you want to bet (>0)?  5\n",
      "How much do you want to bet (>0)?  1\n"
     ]
    },
    {
     "data": {
      "text/plain": [
       "1.0"
      ]
     },
     "execution_count": 63,
     "metadata": {},
     "output_type": "execute_result"
    }
   ],
   "source": [
    "get_bet(2)"
   ]
  },
  {
   "cell_type": "markdown",
   "metadata": {
    "id": "uRm2uQnFTFDU"
   },
   "source": [
    "# Present outcome of a play to the user\n",
    "There are several ways to do this, here is a simple one using a `function`:"
   ]
  },
  {
   "cell_type": "code",
   "execution_count": 65,
   "metadata": {},
   "outputs": [],
   "source": [
    "def present_outcome(outcome):\n",
    "    if outcome == 0:\n",
    "        print(\"You do not earn nor lose any money\")\n",
    "    else:\n",
    "        if outcome>0:\n",
    "            myword=\"earn\"\n",
    "        else:\n",
    "            myword=\"lose\"\n",
    "        print(\"You\", myword, \"{} CHF\".format(outcome))"
   ]
  },
  {
   "cell_type": "code",
   "execution_count": 71,
   "metadata": {
    "id": "yAtyv5a2TFDU"
   },
   "outputs": [
    {
     "name": "stdout",
     "output_type": "stream",
     "text": [
      "You lose -5 CHF\n"
     ]
    }
   ],
   "source": [
    "present_outcome(-5)"
   ]
  },
  {
   "cell_type": "markdown",
   "metadata": {
    "id": "qdQfbKqTTFDV"
   },
   "source": [
    "# Put the game together\n",
    "Now that we have all parts of the game, we want to have a code that initilises the amout of money to the user to 10 CHF and makes sure that the user plays at most 10 times."
   ]
  },
  {
   "cell_type": "code",
   "execution_count": 94,
   "metadata": {
    "id": "kFWYqwqnTFDV"
   },
   "outputs": [
    {
     "name": "stdout",
     "output_type": "stream",
     "text": [
      "You have 10.000 CHF and you have played 0 times\n"
     ]
    },
    {
     "name": "stdin",
     "output_type": "stream",
     "text": [
      "How much do you want to bet (>0)?  2\n"
     ]
    },
    {
     "name": "stdout",
     "output_type": "stream",
     "text": [
      "You do not earn nor lose any money\n",
      "\n",
      "\n",
      "\n"
     ]
    }
   ],
   "source": [
    "# Initialize amount of money and times played\n",
    "money=10\n",
    "t_played=0 # Counter of rounds played\n",
    "t_max=10 # Maximum number rounds that can be played\n",
    "\n",
    "# Inform user about the amount of money she holds and times played\n",
    "print(\"You have {:.3f} CHF and you have played {} times\".format(money, t_played))\n",
    "\n",
    "# Prompt the user for her bet\n",
    "bet = get_bet(money) #must be between 0 and 10\n",
    "\n",
    "# Inform user about outcome\n",
    "outcome = pay_off(bet)\n",
    "present_outcome(outcome)\n",
    "\n",
    "# Update amount of money\n",
    "money = money + outcome\n",
    "\n",
    "# Update times played\n",
    "t_played +=1\n",
    "\n",
    "# Exit if money is non-positive\n",
    "if money <= 0:\n",
    "    print(\"You run out of money!\")\n",
    "\n",
    "\n",
    "# Exit if all rounds have been played\n",
    "if t_played >=t_max:\n",
    "    print(\"You finished the game\")\n",
    "\n",
    "print(\"\\n\")\n",
    "print()"
   ]
  },
  {
   "cell_type": "markdown",
   "metadata": {
    "id": "dp6xsQY-TFDV"
   },
   "source": [
    "# Add plots to the game\n",
    "After a user has played, we want to display:\n",
    "- A plot of the evolution of the money in her pocket.\n",
    "- A plot of the differents bets made.\n",
    "- A plot of the differents outcomes obtained."
   ]
  },
  {
   "cell_type": "code",
   "execution_count": null,
   "metadata": {
    "id": "ju3JN3ELTFDW"
   },
   "outputs": [],
   "source": []
  }
 ],
 "metadata": {
  "colab": {
   "name": "04_Exercises_Three_Queens.ipynb",
   "provenance": []
  },
  "kernelspec": {
   "display_name": "Python 3",
   "language": "python",
   "name": "python3"
  },
  "language_info": {
   "codemirror_mode": {
    "name": "ipython",
    "version": 3
   },
   "file_extension": ".py",
   "mimetype": "text/x-python",
   "name": "python",
   "nbconvert_exporter": "python",
   "pygments_lexer": "ipython3",
   "version": "3.8.3"
  }
 },
 "nbformat": 4,
 "nbformat_minor": 4
}
